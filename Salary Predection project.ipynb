{
 "cells": [
  {
   "cell_type": "code",
   "execution_count": 1,
   "id": "543cc374-991d-46e5-95dc-e248a532cddf",
   "metadata": {},
   "outputs": [],
   "source": [
    "import pandas as pd"
   ]
  },
  {
   "cell_type": "code",
   "execution_count": 2,
   "id": "cf166cec-6beb-4b1b-b401-6edb798f79b6",
   "metadata": {},
   "outputs": [
    {
     "data": {
      "text/html": [
       "<div>\n",
       "<style scoped>\n",
       "    .dataframe tbody tr th:only-of-type {\n",
       "        vertical-align: middle;\n",
       "    }\n",
       "\n",
       "    .dataframe tbody tr th {\n",
       "        vertical-align: top;\n",
       "    }\n",
       "\n",
       "    .dataframe thead th {\n",
       "        text-align: right;\n",
       "    }\n",
       "</style>\n",
       "<table border=\"1\" class=\"dataframe\">\n",
       "  <thead>\n",
       "    <tr style=\"text-align: right;\">\n",
       "      <th></th>\n",
       "      <th>YearsExperience</th>\n",
       "      <th>Salary</th>\n",
       "    </tr>\n",
       "  </thead>\n",
       "  <tbody>\n",
       "    <tr>\n",
       "      <th>0</th>\n",
       "      <td>1.1</td>\n",
       "      <td>39343.0</td>\n",
       "    </tr>\n",
       "    <tr>\n",
       "      <th>1</th>\n",
       "      <td>1.3</td>\n",
       "      <td>46205.0</td>\n",
       "    </tr>\n",
       "    <tr>\n",
       "      <th>2</th>\n",
       "      <td>1.5</td>\n",
       "      <td>37731.0</td>\n",
       "    </tr>\n",
       "    <tr>\n",
       "      <th>3</th>\n",
       "      <td>2.0</td>\n",
       "      <td>43525.0</td>\n",
       "    </tr>\n",
       "    <tr>\n",
       "      <th>4</th>\n",
       "      <td>2.2</td>\n",
       "      <td>39891.0</td>\n",
       "    </tr>\n",
       "  </tbody>\n",
       "</table>\n",
       "</div>"
      ],
      "text/plain": [
       "   YearsExperience   Salary\n",
       "0              1.1  39343.0\n",
       "1              1.3  46205.0\n",
       "2              1.5  37731.0\n",
       "3              2.0  43525.0\n",
       "4              2.2  39891.0"
      ]
     },
     "execution_count": 2,
     "metadata": {},
     "output_type": "execute_result"
    }
   ],
   "source": [
    "df = pd.read_csv('../../datasets/Salary_Data_1.csv')\n",
    "df.head()"
   ]
  },
  {
   "cell_type": "code",
   "execution_count": 3,
   "id": "f4762be8-dc8e-4f0a-9fed-8e1e70b68bd0",
   "metadata": {},
   "outputs": [
    {
     "name": "stdout",
     "output_type": "stream",
     "text": [
      "<class 'pandas.core.frame.DataFrame'>\n",
      "RangeIndex: 30 entries, 0 to 29\n",
      "Data columns (total 2 columns):\n",
      " #   Column           Non-Null Count  Dtype  \n",
      "---  ------           --------------  -----  \n",
      " 0   YearsExperience  30 non-null     float64\n",
      " 1   Salary           30 non-null     float64\n",
      "dtypes: float64(2)\n",
      "memory usage: 612.0 bytes\n"
     ]
    }
   ],
   "source": [
    "df.info()"
   ]
  },
  {
   "cell_type": "code",
   "execution_count": 4,
   "id": "927d63af-d6ba-4707-82d9-0f2cde38aad2",
   "metadata": {},
   "outputs": [
    {
     "data": {
      "text/plain": [
       "YearsExperience    0\n",
       "Salary             0\n",
       "dtype: int64"
      ]
     },
     "execution_count": 4,
     "metadata": {},
     "output_type": "execute_result"
    }
   ],
   "source": [
    "df.isna().sum()"
   ]
  },
  {
   "cell_type": "code",
   "execution_count": 5,
   "id": "ed083283-d8de-47e0-87a6-edfbb4186033",
   "metadata": {},
   "outputs": [],
   "source": [
    "X = df[['YearsExperience']]\n",
    "y = df['Salary']"
   ]
  },
  {
   "cell_type": "code",
   "execution_count": 6,
   "id": "2ed9ac61-4235-4d52-8dac-7459592175c3",
   "metadata": {},
   "outputs": [],
   "source": [
    "from sklearn.model_selection import train_test_split"
   ]
  },
  {
   "cell_type": "code",
   "execution_count": 7,
   "id": "b4aab023-cd55-41d2-9b7c-49333f9f3c5b",
   "metadata": {},
   "outputs": [],
   "source": [
    "X_train,X_test,y_train,y_test = train_test_split(X,y,test_size=0.10)"
   ]
  },
  {
   "cell_type": "code",
   "execution_count": 8,
   "id": "4094c724-b97a-4d41-bc48-475d4595d723",
   "metadata": {},
   "outputs": [
    {
     "data": {
      "text/plain": [
       "((27, 1), (3, 1), (27,), (3,))"
      ]
     },
     "execution_count": 8,
     "metadata": {},
     "output_type": "execute_result"
    }
   ],
   "source": [
    "X_train.shape,X_test.shape,y_train.shape,y_test.shape"
   ]
  },
  {
   "cell_type": "code",
   "execution_count": 9,
   "id": "ca4ef7bf-2c23-43e7-908e-07d28968b79f",
   "metadata": {},
   "outputs": [],
   "source": [
    "from sklearn.preprocessing import MinMaxScaler"
   ]
  },
  {
   "cell_type": "code",
   "execution_count": 10,
   "id": "49935a52-455c-4736-976e-b3ae639c0961",
   "metadata": {},
   "outputs": [],
   "source": [
    "scaler = MinMaxScaler()\n",
    "scaler.fit(X_train)\n",
    "X_train_scaled = scaler.transform(X_train)\n",
    "X_test_scaled = scaler.transform(X_test)"
   ]
  },
  {
   "cell_type": "code",
   "execution_count": 11,
   "id": "4926f0fb-29c6-491d-8b83-f085d9dc178c",
   "metadata": {},
   "outputs": [],
   "source": [
    "from sklearn.linear_model import LinearRegression"
   ]
  },
  {
   "cell_type": "code",
   "execution_count": 12,
   "id": "532bb0b6-9a1f-47e5-826e-748c52119a53",
   "metadata": {},
   "outputs": [
    {
     "data": {
      "text/plain": [
       "92.72832347821536"
      ]
     },
     "execution_count": 12,
     "metadata": {},
     "output_type": "execute_result"
    }
   ],
   "source": [
    "model_Lin = LinearRegression()\n",
    "model_Lin.fit(X_train_scaled,y_train)\n",
    "model_Lin.score(X_test_scaled,y_test)*100"
   ]
  },
  {
   "cell_type": "code",
   "execution_count": 13,
   "id": "9d95ff33-3225-40d3-ae2f-6a35c0accca4",
   "metadata": {},
   "outputs": [],
   "source": [
    "from sklearn.neighbors import KNeighborsRegressor"
   ]
  },
  {
   "cell_type": "code",
   "execution_count": 14,
   "id": "9a5b4073-a8d7-4495-b40d-2a2c001e157f",
   "metadata": {},
   "outputs": [
    {
     "data": {
      "text/plain": [
       "77.68855106837542"
      ]
     },
     "execution_count": 14,
     "metadata": {},
     "output_type": "execute_result"
    }
   ],
   "source": [
    "model_KNN = KNeighborsRegressor(n_neighbors=1)\n",
    "model_KNN.fit(X_train_scaled,y_train)\n",
    "model_KNN.score(X_test_scaled,y_test)*100"
   ]
  },
  {
   "cell_type": "code",
   "execution_count": 15,
   "id": "cb8ef1de-4cfb-4600-a2b9-759cb40e5a61",
   "metadata": {},
   "outputs": [],
   "source": [
    "from sklearn.tree import DecisionTreeRegressor"
   ]
  },
  {
   "cell_type": "code",
   "execution_count": 16,
   "id": "df1c712a-1e19-4c3d-9477-d3120b624027",
   "metadata": {},
   "outputs": [
    {
     "data": {
      "text/plain": [
       "(99.75305631666997, 77.68855106837542)"
      ]
     },
     "execution_count": 16,
     "metadata": {},
     "output_type": "execute_result"
    }
   ],
   "source": [
    "model_tree = DecisionTreeRegressor(random_state=1)\n",
    "model_tree.fit(X_train_scaled,y_train)\n",
    "model_tree.score(X_train_scaled,y_train)*100,model_tree.score(X_test_scaled,y_test)*100"
   ]
  },
  {
   "cell_type": "code",
   "execution_count": 17,
   "id": "fe4a425a-542c-4b11-b29f-1ca72c09ccfb",
   "metadata": {},
   "outputs": [],
   "source": [
    "from sklearn.model_selection import GridSearchCV"
   ]
  },
  {
   "cell_type": "code",
   "execution_count": 18,
   "id": "1f1f0851-953a-49e4-9be6-7abfccc5ba6b",
   "metadata": {},
   "outputs": [],
   "source": [
    "DT_grid = {\n",
    "    'criterion': ['squared_error', 'absolute_error'],  # Error metrics\n",
    "    'max_depth': [None, 5, 10, 15, 20],               # Tree depth\n",
    "    'min_samples_split': [2, 5, 10, 20],              # Minimum samples to split\n",
    "    'min_samples_leaf': [1, 2, 5, 10],                # Minimum samples in leaf nodes\n",
    "    'max_features': [None, 'sqrt', 'log2'],           # Features considered for splitting\n",
    "}"
   ]
  },
  {
   "cell_type": "code",
   "execution_count": 19,
   "id": "26c95a5f-aad7-4eaf-9828-2dc1f2e2f7b3",
   "metadata": {},
   "outputs": [
    {
     "data": {
      "text/plain": [
       "{'criterion': 'squared_error',\n",
       " 'max_depth': 5,\n",
       " 'max_features': None,\n",
       " 'min_samples_leaf': 1,\n",
       " 'min_samples_split': 2}"
      ]
     },
     "execution_count": 19,
     "metadata": {},
     "output_type": "execute_result"
    }
   ],
   "source": [
    "grid_cv_DT = GridSearchCV(estimator=DecisionTreeRegressor(random_state=1),param_grid=DT_grid,verbose=0,cv=5,n_jobs=-1)\n",
    "grid_cv_DT.fit(X,y)\n",
    "grid_cv_DT.best_params_"
   ]
  },
  {
   "cell_type": "code",
   "execution_count": 20,
   "id": "f4afa0a1-2c21-411c-bef2-109c9c3a4b86",
   "metadata": {},
   "outputs": [
    {
     "data": {
      "text/plain": [
       "(99.58402886799433, 77.70848419603679)"
      ]
     },
     "execution_count": 20,
     "metadata": {},
     "output_type": "execute_result"
    }
   ],
   "source": [
    "model_tree = DecisionTreeRegressor(random_state=1, criterion='squared_error', max_depth=5, max_features=None, min_samples_leaf=1, min_samples_split=2)\n",
    "model_tree.fit(X_train_scaled,y_train)\n",
    "model_tree.score(X_train_scaled,y_train)*100,model_tree.score(X_test_scaled,y_test)*100"
   ]
  },
  {
   "cell_type": "code",
   "execution_count": 21,
   "id": "3b6ca340-6957-4cac-b797-8fbd3a023963",
   "metadata": {},
   "outputs": [],
   "source": [
    "from sklearn.ensemble import RandomForestRegressor"
   ]
  },
  {
   "cell_type": "code",
   "execution_count": 22,
   "id": "6f821a94-702b-45aa-928c-1c9226c6ddfb",
   "metadata": {},
   "outputs": [
    {
     "name": "stdout",
     "output_type": "stream",
     "text": [
      "Training Score 99.22132770040638 Testing Score 86.10768437441402\n"
     ]
    }
   ],
   "source": [
    "model_RF = RandomForestRegressor(random_state=1)\n",
    "model_RF.fit(X_train_scaled,y_train)\n",
    "print('Training Score',model_RF.score(X_train_scaled,y_train)*100,'Testing Score',model_RF.score(X_test_scaled,y_test)*100)"
   ]
  },
  {
   "cell_type": "code",
   "execution_count": 23,
   "id": "d4d51ec0-3b3c-412c-9ad5-08d111c5f8f4",
   "metadata": {},
   "outputs": [],
   "source": [
    "RF_grid = {\n",
    "    'n_estimators': [100, 200, 500],           # Number of trees in the forest\n",
    "    'max_depth': [None, 10, 20, 30],           # Maximum depth of the trees\n",
    "    'min_samples_split': [2, 5, 10],           # Minimum samples required to split a node\n",
    "    'min_samples_leaf': [1, 2, 4],             # Minimum samples required at a leaf node\n",
    "    'max_features': ['auto', 'sqrt', 'log2'],  # Number of features to consider for splits\n",
    "    'bootstrap': [True, False],                # Whether to use bootstrap samples\n",
    "}\n"
   ]
  },
  {
   "cell_type": "code",
   "execution_count": 24,
   "id": "4a851008-5ce8-43e8-a22c-f6e0bb0b16d4",
   "metadata": {},
   "outputs": [
    {
     "name": "stderr",
     "output_type": "stream",
     "text": [
      "C:\\Users\\comp\\AppData\\Roaming\\Python\\Python311\\site-packages\\sklearn\\model_selection\\_validation.py:540: FitFailedWarning: \n",
      "1080 fits failed out of a total of 3240.\n",
      "The score on these train-test partitions for these parameters will be set to nan.\n",
      "If these failures are not expected, you can try to debug them by setting error_score='raise'.\n",
      "\n",
      "Below are more details about the failures:\n",
      "--------------------------------------------------------------------------------\n",
      "592 fits failed with the following error:\n",
      "Traceback (most recent call last):\n",
      "  File \"C:\\Users\\comp\\AppData\\Roaming\\Python\\Python311\\site-packages\\sklearn\\model_selection\\_validation.py\", line 888, in _fit_and_score\n",
      "    estimator.fit(X_train, y_train, **fit_params)\n",
      "  File \"C:\\Users\\comp\\AppData\\Roaming\\Python\\Python311\\site-packages\\sklearn\\base.py\", line 1466, in wrapper\n",
      "    estimator._validate_params()\n",
      "  File \"C:\\Users\\comp\\AppData\\Roaming\\Python\\Python311\\site-packages\\sklearn\\base.py\", line 666, in _validate_params\n",
      "    validate_parameter_constraints(\n",
      "  File \"C:\\Users\\comp\\AppData\\Roaming\\Python\\Python311\\site-packages\\sklearn\\utils\\_param_validation.py\", line 95, in validate_parameter_constraints\n",
      "    raise InvalidParameterError(\n",
      "sklearn.utils._param_validation.InvalidParameterError: The 'max_features' parameter of RandomForestRegressor must be an int in the range [1, inf), a float in the range (0.0, 1.0], a str among {'sqrt', 'log2'} or None. Got 'auto' instead.\n",
      "\n",
      "--------------------------------------------------------------------------------\n",
      "488 fits failed with the following error:\n",
      "Traceback (most recent call last):\n",
      "  File \"C:\\Users\\comp\\AppData\\Roaming\\Python\\Python311\\site-packages\\sklearn\\model_selection\\_validation.py\", line 888, in _fit_and_score\n",
      "    estimator.fit(X_train, y_train, **fit_params)\n",
      "  File \"C:\\Users\\comp\\AppData\\Roaming\\Python\\Python311\\site-packages\\sklearn\\base.py\", line 1466, in wrapper\n",
      "    estimator._validate_params()\n",
      "  File \"C:\\Users\\comp\\AppData\\Roaming\\Python\\Python311\\site-packages\\sklearn\\base.py\", line 666, in _validate_params\n",
      "    validate_parameter_constraints(\n",
      "  File \"C:\\Users\\comp\\AppData\\Roaming\\Python\\Python311\\site-packages\\sklearn\\utils\\_param_validation.py\", line 95, in validate_parameter_constraints\n",
      "    raise InvalidParameterError(\n",
      "sklearn.utils._param_validation.InvalidParameterError: The 'max_features' parameter of RandomForestRegressor must be an int in the range [1, inf), a float in the range (0.0, 1.0], a str among {'log2', 'sqrt'} or None. Got 'auto' instead.\n",
      "\n",
      "  warnings.warn(some_fits_failed_message, FitFailedWarning)\n",
      "C:\\Users\\comp\\AppData\\Roaming\\Python\\Python311\\site-packages\\sklearn\\model_selection\\_search.py:1102: UserWarning: One or more of the test scores are non-finite: [        nan         nan         nan         nan         nan         nan\n",
      "         nan         nan         nan         nan         nan         nan\n",
      "         nan         nan         nan         nan         nan         nan\n",
      "         nan         nan         nan         nan         nan         nan\n",
      "         nan         nan         nan -1.5390537  -1.54237243 -1.5928759\n",
      " -2.34165908 -2.34640499 -2.44886392 -4.66586906 -4.56810148 -4.7146501\n",
      " -2.12608528 -2.13174052 -2.22863672 -2.4296496  -2.44924428 -2.54813544\n",
      " -4.67941557 -4.58009635 -4.73802669 -4.21165962 -4.09831184 -4.29012201\n",
      " -4.21165962 -4.09831184 -4.29012201 -4.9265622  -4.83815184 -5.01597846\n",
      " -1.5390537  -1.54237243 -1.5928759  -2.34165908 -2.34640499 -2.44886392\n",
      " -4.66586906 -4.56810148 -4.7146501  -2.12608528 -2.13174052 -2.22863672\n",
      " -2.4296496  -2.44924428 -2.54813544 -4.67941557 -4.58009635 -4.73802669\n",
      " -4.21165962 -4.09831184 -4.29012201 -4.21165962 -4.09831184 -4.29012201\n",
      " -4.9265622  -4.83815184 -5.01597846         nan         nan         nan\n",
      "         nan         nan         nan         nan         nan         nan\n",
      "         nan         nan         nan         nan         nan         nan\n",
      "         nan         nan         nan         nan         nan         nan\n",
      "         nan         nan         nan         nan         nan         nan\n",
      " -1.5390537  -1.54237243 -1.5928759  -2.34165908 -2.34640499 -2.44886392\n",
      " -4.66586906 -4.56810148 -4.7146501  -2.12608528 -2.13174052 -2.22863672\n",
      " -2.4296496  -2.44924428 -2.54813544 -4.67941557 -4.58009635 -4.73802669\n",
      " -4.21165962 -4.09831184 -4.29012201 -4.21165962 -4.09831184 -4.29012201\n",
      " -4.9265622  -4.83815184 -5.01597846 -1.5390537  -1.54237243 -1.5928759\n",
      " -2.34165908 -2.34640499 -2.44886392 -4.66586906 -4.56810148 -4.7146501\n",
      " -2.12608528 -2.13174052 -2.22863672 -2.4296496  -2.44924428 -2.54813544\n",
      " -4.67941557 -4.58009635 -4.73802669 -4.21165962 -4.09831184 -4.29012201\n",
      " -4.21165962 -4.09831184 -4.29012201 -4.9265622  -4.83815184 -5.01597846\n",
      "         nan         nan         nan         nan         nan         nan\n",
      "         nan         nan         nan         nan         nan         nan\n",
      "         nan         nan         nan         nan         nan         nan\n",
      "         nan         nan         nan         nan         nan         nan\n",
      "         nan         nan         nan -1.5390537  -1.54237243 -1.5928759\n",
      " -2.34165908 -2.34640499 -2.44886392 -4.66586906 -4.56810148 -4.7146501\n",
      " -2.12608528 -2.13174052 -2.22863672 -2.4296496  -2.44924428 -2.54813544\n",
      " -4.67941557 -4.58009635 -4.73802669 -4.21165962 -4.09831184 -4.29012201\n",
      " -4.21165962 -4.09831184 -4.29012201 -4.9265622  -4.83815184 -5.01597846\n",
      " -1.5390537  -1.54237243 -1.5928759  -2.34165908 -2.34640499 -2.44886392\n",
      " -4.66586906 -4.56810148 -4.7146501  -2.12608528 -2.13174052 -2.22863672\n",
      " -2.4296496  -2.44924428 -2.54813544 -4.67941557 -4.58009635 -4.73802669\n",
      " -4.21165962 -4.09831184 -4.29012201 -4.21165962 -4.09831184 -4.29012201\n",
      " -4.9265622  -4.83815184 -5.01597846         nan         nan         nan\n",
      "         nan         nan         nan         nan         nan         nan\n",
      "         nan         nan         nan         nan         nan         nan\n",
      "         nan         nan         nan         nan         nan         nan\n",
      "         nan         nan         nan         nan         nan         nan\n",
      " -1.5390537  -1.54237243 -1.5928759  -2.34165908 -2.34640499 -2.44886392\n",
      " -4.66586906 -4.56810148 -4.7146501  -2.12608528 -2.13174052 -2.22863672\n",
      " -2.4296496  -2.44924428 -2.54813544 -4.67941557 -4.58009635 -4.73802669\n",
      " -4.21165962 -4.09831184 -4.29012201 -4.21165962 -4.09831184 -4.29012201\n",
      " -4.9265622  -4.83815184 -5.01597846 -1.5390537  -1.54237243 -1.5928759\n",
      " -2.34165908 -2.34640499 -2.44886392 -4.66586906 -4.56810148 -4.7146501\n",
      " -2.12608528 -2.13174052 -2.22863672 -2.4296496  -2.44924428 -2.54813544\n",
      " -4.67941557 -4.58009635 -4.73802669 -4.21165962 -4.09831184 -4.29012201\n",
      " -4.21165962 -4.09831184 -4.29012201 -4.9265622  -4.83815184 -5.01597846\n",
      "         nan         nan         nan         nan         nan         nan\n",
      "         nan         nan         nan         nan         nan         nan\n",
      "         nan         nan         nan         nan         nan         nan\n",
      "         nan         nan         nan         nan         nan         nan\n",
      "         nan         nan         nan -1.31202651 -1.31202651 -1.31202651\n",
      " -1.65114544 -1.65114544 -1.65114544 -3.46627292 -3.46627292 -3.46627292\n",
      " -2.11736668 -2.11736668 -2.11736668 -2.09285359 -2.09285359 -2.09285359\n",
      " -3.71545677 -3.71545677 -3.71545677 -3.96670466 -3.96670466 -3.96670466\n",
      " -3.96670466 -3.96670466 -3.96670466 -3.8197948  -3.8197948  -3.8197948\n",
      " -1.31202651 -1.31202651 -1.31202651 -1.65114544 -1.65114544 -1.65114544\n",
      " -3.46627292 -3.46627292 -3.46627292 -2.11736668 -2.11736668 -2.11736668\n",
      " -2.09285359 -2.09285359 -2.09285359 -3.71545677 -3.71545677 -3.71545677\n",
      " -3.96670466 -3.96670466 -3.96670466 -3.96670466 -3.96670466 -3.96670466\n",
      " -3.8197948  -3.8197948  -3.8197948          nan         nan         nan\n",
      "         nan         nan         nan         nan         nan         nan\n",
      "         nan         nan         nan         nan         nan         nan\n",
      "         nan         nan         nan         nan         nan         nan\n",
      "         nan         nan         nan         nan         nan         nan\n",
      " -1.31202651 -1.31202651 -1.31202651 -1.65114544 -1.65114544 -1.65114544\n",
      " -3.46627292 -3.46627292 -3.46627292 -2.11736668 -2.11736668 -2.11736668\n",
      " -2.09285359 -2.09285359 -2.09285359 -3.71545677 -3.71545677 -3.71545677\n",
      " -3.96670466 -3.96670466 -3.96670466 -3.96670466 -3.96670466 -3.96670466\n",
      " -3.8197948  -3.8197948  -3.8197948  -1.31202651 -1.31202651 -1.31202651\n",
      " -1.65114544 -1.65114544 -1.65114544 -3.46627292 -3.46627292 -3.46627292\n",
      " -2.11736668 -2.11736668 -2.11736668 -2.09285359 -2.09285359 -2.09285359\n",
      " -3.71545677 -3.71545677 -3.71545677 -3.96670466 -3.96670466 -3.96670466\n",
      " -3.96670466 -3.96670466 -3.96670466 -3.8197948  -3.8197948  -3.8197948\n",
      "         nan         nan         nan         nan         nan         nan\n",
      "         nan         nan         nan         nan         nan         nan\n",
      "         nan         nan         nan         nan         nan         nan\n",
      "         nan         nan         nan         nan         nan         nan\n",
      "         nan         nan         nan -1.31202651 -1.31202651 -1.31202651\n",
      " -1.65114544 -1.65114544 -1.65114544 -3.46627292 -3.46627292 -3.46627292\n",
      " -2.11736668 -2.11736668 -2.11736668 -2.09285359 -2.09285359 -2.09285359\n",
      " -3.71545677 -3.71545677 -3.71545677 -3.96670466 -3.96670466 -3.96670466\n",
      " -3.96670466 -3.96670466 -3.96670466 -3.8197948  -3.8197948  -3.8197948\n",
      " -1.31202651 -1.31202651 -1.31202651 -1.65114544 -1.65114544 -1.65114544\n",
      " -3.46627292 -3.46627292 -3.46627292 -2.11736668 -2.11736668 -2.11736668\n",
      " -2.09285359 -2.09285359 -2.09285359 -3.71545677 -3.71545677 -3.71545677\n",
      " -3.96670466 -3.96670466 -3.96670466 -3.96670466 -3.96670466 -3.96670466\n",
      " -3.8197948  -3.8197948  -3.8197948          nan         nan         nan\n",
      "         nan         nan         nan         nan         nan         nan\n",
      "         nan         nan         nan         nan         nan         nan\n",
      "         nan         nan         nan         nan         nan         nan\n",
      "         nan         nan         nan         nan         nan         nan\n",
      " -1.31202651 -1.31202651 -1.31202651 -1.65114544 -1.65114544 -1.65114544\n",
      " -3.46627292 -3.46627292 -3.46627292 -2.11736668 -2.11736668 -2.11736668\n",
      " -2.09285359 -2.09285359 -2.09285359 -3.71545677 -3.71545677 -3.71545677\n",
      " -3.96670466 -3.96670466 -3.96670466 -3.96670466 -3.96670466 -3.96670466\n",
      " -3.8197948  -3.8197948  -3.8197948  -1.31202651 -1.31202651 -1.31202651\n",
      " -1.65114544 -1.65114544 -1.65114544 -3.46627292 -3.46627292 -3.46627292\n",
      " -2.11736668 -2.11736668 -2.11736668 -2.09285359 -2.09285359 -2.09285359\n",
      " -3.71545677 -3.71545677 -3.71545677 -3.96670466 -3.96670466 -3.96670466\n",
      " -3.96670466 -3.96670466 -3.96670466 -3.8197948  -3.8197948  -3.8197948 ]\n",
      "  warnings.warn(\n"
     ]
    },
    {
     "data": {
      "text/plain": [
       "{'bootstrap': False,\n",
       " 'max_depth': None,\n",
       " 'max_features': 'sqrt',\n",
       " 'min_samples_leaf': 1,\n",
       " 'min_samples_split': 2,\n",
       " 'n_estimators': 100}"
      ]
     },
     "execution_count": 24,
     "metadata": {},
     "output_type": "execute_result"
    }
   ],
   "source": [
    "grid_cv_RF = GridSearchCV(estimator=RandomForestRegressor(random_state=1),param_grid=RF_grid,verbose=0,cv=5,n_jobs=-1)\n",
    "grid_cv_RF.fit(X,y)\n",
    "grid_cv_RF.best_params_"
   ]
  },
  {
   "cell_type": "code",
   "execution_count": 25,
   "id": "e074f781-6b6c-4ad0-bdea-c09b1ff3d8e7",
   "metadata": {},
   "outputs": [
    {
     "name": "stdout",
     "output_type": "stream",
     "text": [
      "Training Score 99.75305631666997 Testing Score 77.68855106837542\n"
     ]
    }
   ],
   "source": [
    "model_RF = RandomForestRegressor(random_state=1,bootstrap=False,max_depth=None,max_features='sqrt',\n",
    "                                 min_samples_leaf=1,min_samples_split=2,n_estimators=100)\n",
    "model_RF.fit(X_train_scaled,y_train)\n",
    "print('Training Score',model_RF.score(X_train_scaled,y_train)*100,'Testing Score',model_RF.score(X_test_scaled,y_test)*100)"
   ]
  },
  {
   "cell_type": "code",
   "execution_count": null,
   "id": "34500fc0-7431-4634-b891-de09046a0922",
   "metadata": {},
   "outputs": [],
   "source": []
  },
  {
   "cell_type": "code",
   "execution_count": 26,
   "id": "d75bc27c-694a-4922-b1a4-a082acbee240",
   "metadata": {},
   "outputs": [],
   "source": [
    "Q = [[25],\n",
    "     [30],\n",
    "     [55],\n",
    "     [2],\n",
    "     [10]]"
   ]
  },
  {
   "cell_type": "code",
   "execution_count": 27,
   "id": "8962caeb-8b91-4d14-81db-0ecf6f81f104",
   "metadata": {},
   "outputs": [
    {
     "name": "stderr",
     "output_type": "stream",
     "text": [
      "C:\\Users\\comp\\AppData\\Roaming\\Python\\Python311\\site-packages\\sklearn\\base.py:493: UserWarning: X does not have valid feature names, but MinMaxScaler was fitted with feature names\n",
      "  warnings.warn(\n"
     ]
    },
    {
     "data": {
      "text/plain": [
       "array([121872., 121872., 121872.,  43525., 122391.])"
      ]
     },
     "execution_count": 27,
     "metadata": {},
     "output_type": "execute_result"
    }
   ],
   "source": [
    "model_RF.predict(scaler.transform(Q))"
   ]
  },
  {
   "cell_type": "code",
   "execution_count": 28,
   "id": "cfcb3356-4bb9-42c4-bc95-62879e450dd1",
   "metadata": {},
   "outputs": [],
   "source": [
    "import pickle"
   ]
  },
  {
   "cell_type": "code",
   "execution_count": 29,
   "id": "6e52d992-073b-40f8-b6d2-6d7d1da278c4",
   "metadata": {},
   "outputs": [],
   "source": [
    "pickle.dump(model_RF,open('model_RF.pkl','wb'))\n",
    "pickle.dump(scaler,open('scaler.pkl','wb'))"
   ]
  },
  {
   "cell_type": "code",
   "execution_count": null,
   "id": "a415f745-5dea-46d4-ab4b-1bd0292347c3",
   "metadata": {},
   "outputs": [],
   "source": []
  }
 ],
 "metadata": {
  "kernelspec": {
   "display_name": "dsml33_tf_env",
   "language": "python",
   "name": "python3"
  },
  "language_info": {
   "codemirror_mode": {
    "name": "ipython",
    "version": 3
   },
   "file_extension": ".py",
   "mimetype": "text/x-python",
   "name": "python",
   "nbconvert_exporter": "python",
   "pygments_lexer": "ipython3",
   "version": "3.11.5"
  },
  "widgets": {
   "application/vnd.jupyter.widget-state+json": {
    "state": {},
    "version_major": 2,
    "version_minor": 0
   }
  }
 },
 "nbformat": 4,
 "nbformat_minor": 5
}
